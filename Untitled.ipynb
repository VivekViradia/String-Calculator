{
 "cells": [
  {
   "cell_type": "code",
   "execution_count": 7,
   "id": "d1d0a195-fe63-452d-9a10-f07887c6cbc1",
   "metadata": {},
   "outputs": [],
   "source": [
    "def add(numbers: str) -> int:\n",
    "    if not numbers:\n",
    "        return 0\n",
    "    \n",
    "    # Handle custom delimiter\n",
    "    delimiter = ','\n",
    "    if numbers.startswith('//'):\n",
    "        delimiter = numbers[2]\n",
    "        numbers = numbers[numbers.index('\\n') + 1:]\n",
    "        # Replace newlines with the custom delimiter\n",
    "        numbers = numbers.replace('\\n', delimiter)\n",
    "    else:\n",
    "        # For default delimiter, replace newlines with comma\n",
    "        numbers = numbers.replace('\\n', ',')\n",
    "    \n",
    "    # Split and convert to integers, filter out empty strings\n",
    "    nums = [int(n.strip()) for n in numbers.split(delimiter) if n.strip()]\n",
    "    \n",
    "    # Check for negative numbers\n",
    "    negatives = [n for n in nums if n < 0]\n",
    "    if negatives:\n",
    "        raise ValueError(f\"negative numbers not allowed {negatives}\")\n",
    "    \n",
    "    return sum(nums)"
   ]
  },
  {
   "cell_type": "code",
   "execution_count": 8,
   "id": "bc4cd921-2fa3-462e-be03-cb00365603ac",
   "metadata": {},
   "outputs": [
    {
     "name": "stdout",
     "output_type": "stream",
     "text": [
      "0\n",
      "1\n",
      "6\n",
      "6\n",
      "6\n",
      "30\n"
     ]
    },
    {
     "ename": "ValueError",
     "evalue": "negative numbers not allowed [-2]",
     "output_type": "error",
     "traceback": [
      "\u001b[1;31m---------------------------------------------------------------------------\u001b[0m",
      "\u001b[1;31mValueError\u001b[0m                                Traceback (most recent call last)",
      "Cell \u001b[1;32mIn[8], line 8\u001b[0m\n\u001b[0;32m      6\u001b[0m \u001b[38;5;28mprint\u001b[39m(add(\u001b[38;5;124m\"\u001b[39m\u001b[38;5;124m//;\u001b[39m\u001b[38;5;130;01m\\n\u001b[39;00m\u001b[38;5;124m1;2;3\u001b[39m\u001b[38;5;124m\"\u001b[39m))\n\u001b[0;32m      7\u001b[0m \u001b[38;5;28mprint\u001b[39m(add(\u001b[38;5;124m\"\u001b[39m\u001b[38;5;124m//;\u001b[39m\u001b[38;5;130;01m\\n\u001b[39;00m\u001b[38;5;124m1;2;\u001b[39m\u001b[38;5;130;01m\\n\u001b[39;00m\u001b[38;5;124m3;7;8;9\u001b[39m\u001b[38;5;124m\"\u001b[39m))\n\u001b[1;32m----> 8\u001b[0m \u001b[38;5;28mprint\u001b[39m(add(\u001b[38;5;124m\"\u001b[39m\u001b[38;5;124m1,-2,3\u001b[39m\u001b[38;5;124m\"\u001b[39m))\n",
      "Cell \u001b[1;32mIn[7], line 22\u001b[0m, in \u001b[0;36madd\u001b[1;34m(numbers)\u001b[0m\n\u001b[0;32m     20\u001b[0m negatives \u001b[38;5;241m=\u001b[39m [n \u001b[38;5;28;01mfor\u001b[39;00m n \u001b[38;5;129;01min\u001b[39;00m nums \u001b[38;5;28;01mif\u001b[39;00m n \u001b[38;5;241m<\u001b[39m \u001b[38;5;241m0\u001b[39m]\n\u001b[0;32m     21\u001b[0m \u001b[38;5;28;01mif\u001b[39;00m negatives:\n\u001b[1;32m---> 22\u001b[0m     \u001b[38;5;28;01mraise\u001b[39;00m \u001b[38;5;167;01mValueError\u001b[39;00m(\u001b[38;5;124mf\u001b[39m\u001b[38;5;124m\"\u001b[39m\u001b[38;5;124mnegative numbers not allowed \u001b[39m\u001b[38;5;132;01m{\u001b[39;00mnegatives\u001b[38;5;132;01m}\u001b[39;00m\u001b[38;5;124m\"\u001b[39m)\n\u001b[0;32m     24\u001b[0m \u001b[38;5;28;01mreturn\u001b[39;00m \u001b[38;5;28msum\u001b[39m(nums)\n",
      "\u001b[1;31mValueError\u001b[0m: negative numbers not allowed [-2]"
     ]
    }
   ],
   "source": [
    "# ✅ **Test Cases**\n",
    "print(add(\"\"))        \n",
    "print(add(\"1\"))       \n",
    "print(add(\"1,5\"))     \n",
    "print(add(\"1\\n2,3\"))  \n",
    "print(add(\"//;\\n1;2;3\"))\n",
    "print(add(\"//;\\n1;2;\\n3;7;8;9\"))\n",
    "print(add(\"1,-2,3\"))"
   ]
  },
  {
   "cell_type": "code",
   "execution_count": null,
   "id": "8b2dece1-76be-4e51-8b04-2dc7fce7752f",
   "metadata": {},
   "outputs": [],
   "source": []
  }
 ],
 "metadata": {
  "kernelspec": {
   "display_name": "Python 3 (ipykernel)",
   "language": "python",
   "name": "python3"
  },
  "language_info": {
   "codemirror_mode": {
    "name": "ipython",
    "version": 3
   },
   "file_extension": ".py",
   "mimetype": "text/x-python",
   "name": "python",
   "nbconvert_exporter": "python",
   "pygments_lexer": "ipython3",
   "version": "3.11.11"
  }
 },
 "nbformat": 4,
 "nbformat_minor": 5
}
